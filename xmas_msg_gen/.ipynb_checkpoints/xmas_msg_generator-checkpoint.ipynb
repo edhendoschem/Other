{
 "cells": [
  {
   "cell_type": "code",
   "execution_count": 37,
   "metadata": {
    "collapsed": false
   },
   "outputs": [],
   "source": [
    "import time   #Use time as a seed for pseudorandom number generator\n",
    "import random #Library to generate pseudorandom numbers\n",
    "\n",
    "random.seed(time.time()) #Initialize the rng with time as a seed\n",
    "\n",
    "def generate_xmas_msg():\n",
    "    first = [\n",
    "        \"Good luck\",                    #1\n",
    "        \"Break a leg\",                  #2\n",
    "        \"Best of luck\",                 #3\n",
    "        \"Onwards!\",                     #4\n",
    "        \"May the force be with you\",    #5\n",
    "        \"May the force serve you well\", #6\n",
    "        \"Have faith\",                   #7\n",
    "        \"Good fortune\",                 #8\n",
    "    ]\n",
    "    \n",
    "    second = [\n",
    "        \"quest\",     #1\n",
    "        \"journey\",   #2\n",
    "        \"odyssey\",   #3\n",
    "        \"campaign\",  #4\n",
    "        \"venture\",   #5\n",
    "        \"adventure\", #6\n",
    "        \"pursuit\",   #7\n",
    "        \"research\",  #8\n",
    "    ]\n",
    "    \n",
    "    third = [\n",
    "        \"to vanquish\",        #1\n",
    "        \"to defeat\",          #2\n",
    "        \"to join\",            #3\n",
    "        \"to discover\",        #4\n",
    "        \"to negotiate with\",  #5\n",
    "        \"gain the trust of\",  #6\n",
    "        \"to help\",            #7\n",
    "    ]\n",
    "    \n",
    "    fourth = [\n",
    "        \"the city of R'lyeh\",                        #1\n",
    "        \"the crustaceans of Yuggoth\",                #2\n",
    "        \"the Sith\",                                  #3\n",
    "        \"the Jedi\",                                  #4\n",
    "        \"the galactic senate\",                       #5\n",
    "        \"the vaporous brains of the spiral nebulae\", #6\n",
    "        \"the outer gods\",                            #7\n",
    "        \"Umr At-Tawil\",                              #8\n",
    "        \"the Time Lords\",                            #9\n",
    "        \"the Daleks\",                                #10\n",
    "        \"the city of Rivendel\",                      #11\n",
    "        \"the witch king of Angmar\",                  #12\n",
    "        \"Tom Bombadil\",                              #13\n",
    "        \"Treebeard and the Ents\",\n",
    "    ]\n",
    "    \n",
    "    \n",
    "    phrase = first[random.randrange(0,len(first),1)] + \" in your \"+second[random.randrange(0,len(second),1)]+\" \"\\\n",
    "            + third[random.randrange(0,len(third),1)] + \" \" + fourth[random.randrange(0,len(fourth),1)]\n",
    "    return phrase"
   ]
  },
  {
   "cell_type": "code",
   "execution_count": 57,
   "metadata": {
    "collapsed": false
   },
   "outputs": [
    {
     "name": "stdout",
     "output_type": "stream",
     "text": [
      "1) May the force serve you well in your odyssey to discover the Daleks\n",
      "2) Good luck in your venture gain the trust of the Sith\n",
      "3) Good fortune in your venture gain the trust of the galactic senate\n",
      "4) May the force be with you in your venture to discover the galactic senate\n",
      "5) Good luck in your venture to help the Sith\n",
      "6) Have faith in your quest to defeat Treebeard and the Ents\n",
      "7) Best of luck in your odyssey to help the vaporous brains of the spiral nebulae\n",
      "8) Good luck in your venture gain the trust of the witch king of Angmar\n",
      "9) Onwards! in your research to negotiate with the Sith\n",
      "10) Have faith in your venture to discover the Time Lords\n"
     ]
    }
   ],
   "source": [
    "#Generate 10 messages\n",
    "for i in range(0,10,1):\n",
    "    print(str(i+1)+\") \", end=\"\")\n",
    "    print(generate_xmas_msg())"
   ]
  },
  {
   "cell_type": "code",
   "execution_count": null,
   "metadata": {
    "collapsed": true
   },
   "outputs": [],
   "source": []
  }
 ],
 "metadata": {
  "kernelspec": {
   "display_name": "Python 3",
   "language": "python",
   "name": "python3"
  },
  "language_info": {
   "codemirror_mode": {
    "name": "ipython",
    "version": 3
   },
   "file_extension": ".py",
   "mimetype": "text/x-python",
   "name": "python",
   "nbconvert_exporter": "python",
   "pygments_lexer": "ipython3",
   "version": "3.6.3"
  }
 },
 "nbformat": 4,
 "nbformat_minor": 2
}
