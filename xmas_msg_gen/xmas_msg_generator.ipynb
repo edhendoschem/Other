{
 "cells": [
  {
   "cell_type": "code",
   "execution_count": 24,
   "metadata": {
    "collapsed": false
   },
   "outputs": [],
   "source": [
    "import time   #Use time as a seed for pseudorandom number generator\n",
    "import random #Library to generate pseudorandom numbers\n",
    "\n",
    "random.seed(time.time()) #Initialize the rng with time as a seed\n",
    "\n",
    "def generate_xmas_msg():\n",
    "    first = [\n",
    "        \"Good luck\",                           #1\n",
    "        \"May the odds be ever in your favour\", #2\n",
    "        \"Best of luck\",                        #3\n",
    "        \"Hope you succeed\",                            #4\n",
    "        \"May the force be with you\",           #5\n",
    "        \"May the force serve you well\",        #6\n",
    "        \"Good fortune\",                        #7\n",
    "    ]\n",
    "    \n",
    "    second = [\n",
    "        \"quest\",     #1\n",
    "        \"journey\",   #2\n",
    "        \"odyssey\",   #3\n",
    "        \"campaign\",  #4\n",
    "        \"venture\",   #5\n",
    "        \"adventure\", #6\n",
    "        \"pursuit\",   #7\n",
    "        \"research\",  #8\n",
    "    ]\n",
    "    \n",
    "    third = [\n",
    "        \"to vanquish\",        #1\n",
    "        \"to defeat\",          #2\n",
    "        \"to join\",            #3\n",
    "        \"to discover\",        #4\n",
    "        \"to negotiate with\",  #5\n",
    "        \"gain the trust of\",  #6\n",
    "        \"to help\",            #7\n",
    "    ]\n",
    "    \n",
    "    fourth = [\n",
    "        \"the city of R'lyeh\",                        #1\n",
    "        \"the crustaceans of Yuggoth\",                #2\n",
    "        \"the Sith\",                                  #3\n",
    "        \"the Jedi\",                                  #4\n",
    "        \"the galactic senate\",                       #5\n",
    "        \"the vaporous brains of the spiral nebulae\", #6\n",
    "        \"the outer gods\",                            #7\n",
    "        \"Yog-Sothoth\",                               #8\n",
    "        \"the Time Lords\",                            #9\n",
    "        \"the Daleks\",                                #10\n",
    "        \"the city of Rivendel\",                      #11\n",
    "        \"the Witch-king of Angmar\",                  #12\n",
    "        \"Tom Bombadil\",                              #13\n",
    "        \"Treebeard and the Ents\",                    #14\n",
    "        \"supreme leader Kim Jong-un\",                #15\n",
    "        \"Donald Trump\",                              #16\n",
    "        \"Mordor\",                                    #17\n",
    "        \"the NHS\",                                   #21\n",
    "        \"Jar Jar Binks\",                             #22\n",
    "        \"Cyrano de Bergerac\"                         #23\n",
    "    ]\n",
    "    \n",
    "    \n",
    "    phrase = first[random.randrange(0,len(first),1)] + \" in your \"+second[random.randrange(0,len(second),1)]+\" \"\\\n",
    "            + third[random.randrange(0,len(third),1)] + \" \" + fourth[random.randrange(0,len(fourth),1)]\n",
    "    return phrase"
   ]
  },
  {
   "cell_type": "code",
   "execution_count": 26,
   "metadata": {
    "collapsed": false
   },
   "outputs": [
    {
     "name": "stdout",
     "output_type": "stream",
     "text": [
      "1) Hope you succeed in your venture to defeat the Jedi\n",
      "2) Good fortune in your odyssey to negotiate with the Sith\n",
      "3) Good luck in your venture to negotiate with the NHS\n",
      "4) Good luck in your quest to negotiate with the Jedi\n",
      "5) May the force serve you well in your odyssey to vanquish Donald Trump\n",
      "6) Best of luck in your journey to help Jar Jar Binks\n",
      "7) May the odds be ever in your favour in your campaign to join the Jedi\n",
      "8) Good fortune in your campaign to discover the outer gods\n",
      "9) May the force serve you well in your adventure to vanquish the vaporous brains of the spiral nebulae\n",
      "10) Best of luck in your pursuit to defeat supreme leader Kim Jong-un\n"
     ]
    }
   ],
   "source": [
    "#Generate 10 messages\n",
    "for i in range(0,10,1):\n",
    "    print(str(i+1)+\") \", end=\"\")\n",
    "    print(generate_xmas_msg())"
   ]
  },
  {
   "cell_type": "code",
   "execution_count": null,
   "metadata": {
    "collapsed": true
   },
   "outputs": [],
   "source": []
  }
 ],
 "metadata": {
  "kernelspec": {
   "display_name": "Python 3",
   "language": "python",
   "name": "python3"
  },
  "language_info": {
   "codemirror_mode": {
    "name": "ipython",
    "version": 3
   },
   "file_extension": ".py",
   "mimetype": "text/x-python",
   "name": "python",
   "nbconvert_exporter": "python",
   "pygments_lexer": "ipython3",
   "version": "3.6.3"
  }
 },
 "nbformat": 4,
 "nbformat_minor": 2
}
